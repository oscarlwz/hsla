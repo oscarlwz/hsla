{
 "cells": [
  {
   "cell_type": "markdown",
   "metadata": {},
   "source": [
    "# Scripts related to the HSLA target sorting"
   ]
  },
  {
   "cell_type": "code",
   "execution_count": 82,
   "metadata": {},
   "outputs": [],
   "source": [
    "# Get the alias0 names that have never been included in a .list before (i.e. new alias0s that need to be appended\n",
    "# to a list)\n",
    "\n",
    "from astropy.table import Table\n",
    "from astropy.io import ascii\n",
    "import numpy as np\n",
    "\n",
    "# Make a list of all unique target names that already exist in a .list file\n",
    "existing = []\n",
    "for f in glob.glob('*COS.list'):\n",
    "    t = ascii.read(f)\n",
    "    existing.extend(t['targname'])\n",
    "\n",
    "existing = np.unique(existing)\n",
    "\n",
    "new_targs = Table.read('/grp/hst/HST_spectro/hsla_releases/datapile_05-15-2018_COS/COS_exposures_May15_2018_final.alias', \n",
    "                       format='ascii.fixed_width_two_line')\n",
    "new_alias0 = np.unique(new_targs['alias0'])\n",
    "\n",
    "unlisted = []\n",
    "for a in new_alias0:\n",
    "    if a not in existing:\n",
    "        unlisted.append(a)\n",
    "        \n",
    "names = ['alias0']\n",
    "ascii.write([unlisted], '/user/bsunnquist/hsla/all_missing_alias0_names.txt', \n",
    "            overwrite=True, format='fixed_width_two_line', names=names)\n"
   ]
  },
  {
   "cell_type": "code",
   "execution_count": 85,
   "metadata": {},
   "outputs": [
    {
     "data": {
      "text/plain": [
       "444"
      ]
     },
     "execution_count": 85,
     "metadata": {},
     "output_type": "execute_result"
    }
   ],
   "source": [
    "len(np.unique(unlisted))"
   ]
  },
  {
   "cell_type": "code",
   "execution_count": 86,
   "metadata": {},
   "outputs": [
    {
     "data": {
      "text/plain": [
       "444"
      ]
     },
     "execution_count": 86,
     "metadata": {},
     "output_type": "execute_result"
    }
   ],
   "source": [
    "len(unlisted)"
   ]
  },
  {
   "cell_type": "code",
   "execution_count": 87,
   "metadata": {
    "collapsed": true
   },
   "outputs": [],
   "source": [
    "# Get the NEW alias0 names that have never been included in a .list before (i.e. new alias0s that need to be appended\n",
    "# to a list)\n",
    "\n",
    "from astropy.table import Table\n",
    "from astropy.io import ascii\n",
    "import numpy as np\n",
    "\n",
    "# Make a list of all unique target names that already exist in a .list file\n",
    "existing = []\n",
    "for f in glob.glob('*COS.list'):\n",
    "    t = ascii.read(f)\n",
    "    existing.extend(t['targname'])\n",
    "\n",
    "existing = np.unique(existing)\n",
    "\n",
    "new_targs = Table.read('/user/bsunnquist/hsla/new_targets_2018.txt', format='ascii.fixed_width_two_line')\n",
    "new_alias0 = np.unique(new_targs['alias0'])\n",
    "\n",
    "unlisted = []\n",
    "for a in new_alias0:\n",
    "    if a not in existing:\n",
    "        unlisted.append(a)\n",
    "        \n",
    "names = ['alias0']\n",
    "ascii.write([unlisted], '/user/bsunnquist/hsla/new_alias0_names.txt', \n",
    "            overwrite=True, format='fixed_width_two_line', names=names)\n"
   ]
  },
  {
   "cell_type": "code",
   "execution_count": 88,
   "metadata": {},
   "outputs": [
    {
     "data": {
      "text/plain": [
       "342"
      ]
     },
     "execution_count": 88,
     "metadata": {},
     "output_type": "execute_result"
    }
   ],
   "source": [
    "len(np.unique(unlisted))"
   ]
  },
  {
   "cell_type": "code",
   "execution_count": 89,
   "metadata": {},
   "outputs": [
    {
     "data": {
      "text/plain": [
       "342"
      ]
     },
     "execution_count": 89,
     "metadata": {},
     "output_type": "execute_result"
    }
   ],
   "source": [
    "len(unlisted)"
   ]
  },
  {
   "cell_type": "code",
   "execution_count": 21,
   "metadata": {},
   "outputs": [
    {
     "name": "stdout",
     "output_type": "stream",
     "text": [
      "GALAXY_STARFORMING.list LY06\n",
      "GALAXY_STARFORMING.list LY52\n",
      "GALAXY_CLUSTER.list M87-FILAMENTS-COS-OFFSET\n",
      "GALAXY_CLUSTER.list M87-FILAMENTS-COS\n",
      "STAR_WD.list GD-71\n",
      "STAR_WD.list WD-1057+719\n",
      "STAR_WD.list WD1657+343\n",
      "GALAXY_STARBURST.list 2MASS-J09215939+4509126\n",
      "GALAXY_STARBURST.list IZW18-OBJECT-1\n",
      "GALAXY_STARBURST.list NGC4214-OBJECT-1-REVISIT\n",
      "GALAXY_STARBURST.list IRAS16474+3430-TWEAK\n",
      "GALAXY_STARBURST.list IRAS16487+5447-TWEAK\n",
      "GALAXY_STARBURST.list IRAS23365+3604\n",
      "STAR_OTHER.list AV75\n",
      "STAR_OTHER.list HKORI\n",
      "STAR.list AV75\n",
      "STAR.list CL-NGC-330-ELS-4\n",
      "STAR.list AV243\n",
      "STAR.list NAME-RW-AUR-A\n",
      "STAR.list HKORI\n",
      "STAR.list GD-71\n",
      "STAR.list WD-1057+719\n",
      "STAR.list NGC5139-UIT-2-REVISED\n",
      "STAR.list WD1657+343\n",
      "STAR.list HD-204827\n",
      "EXOPLANETS.list HD-97658\n",
      "EXOPLANETS.list HAT-P-11\n",
      "STAR_TTAURI.list NAME-RW-AUR-A\n",
      "STAR_POST_AGB.list NGC5139-UIT-2-REVISED\n",
      "NUV_TARGETS.list CL-NGC-330-ELS-4\n",
      "NUV_TARGETS.list HKORI\n",
      "NUV_TARGETS.list IZW18-OBJECT-1\n",
      "NUV_TARGETS.list HD-97658\n",
      "NUV_TARGETS.list HS2154+2228\n",
      "GALAXY_IRREGULAR.list IRAS00262+4251\n",
      "STAR_EARLY.list CL-NGC-330-ELS-4\n",
      "STAR_EARLY.list AV243\n",
      "STAR_EARLY.list HD-204827\n",
      "QSOALS.list MRK-335\n",
      "QSOALS.list NEWQZ026\n",
      "QSOALS.list QSO-003916-511701\n",
      "QSOALS.list IO-AND\n",
      "QSOALS.list NEWQZ008\n",
      "QSOALS.list 3C-66A\n",
      "QSOALS.list GALEX-J022614.4+001530\n",
      "QSOALS.list CAL-F-COPY\n",
      "QSOALS.list J084349.75+261910.7\n",
      "QSOALS.list PG0923+201\n",
      "QSOALS.list J102847.00+391800.4\n",
      "QSOALS.list J104709.83+130454.6\n",
      "QSOALS.list GALEX-J125100.3+302543\n",
      "QSOALS.list PG1309+355\n",
      "QSOALS.list J132059.41+295728.1\n",
      "QSOALS.list PG1351+640\n",
      "QSOALS.list J140505.77+470441.1\n",
      "QSOALS.list 2XMM-J141348.3+440014\n",
      "QSOALS.list PG1435-067\n",
      "QSOALS.list J165931.92+373528.8\n",
      "QSOALS.list HS2154+2228\n",
      "GALAXY.list IRAS00262+4251\n",
      "GALAXY.list 2MASS-J09215939+4509126\n",
      "GALAXY.list LY06\n",
      "GALAXY.list IZW18-OBJECT-1\n",
      "GALAXY.list NGC4214-OBJECT-1-REVISIT\n",
      "GALAXY.list M87-FILAMENTS-COS-OFFSET\n",
      "GALAXY.list M87-FILAMENTS-COS\n",
      "GALAXY.list LY52\n",
      "GALAXY.list IRAS16474+3430-TWEAK\n",
      "GALAXY.list IRAS16487+5447-TWEAK\n",
      "GALAXY.list IRAS23365+3604\n",
      "FUV_TARGETS.list MRK-335\n",
      "FUV_TARGETS.list NEWQZ026\n",
      "FUV_TARGETS.list IRAS00262+4251\n",
      "FUV_TARGETS.list QSO-003916-511701\n",
      "FUV_TARGETS.list IO-AND\n",
      "FUV_TARGETS.list AV75\n",
      "FUV_TARGETS.list CL-NGC-330-ELS-4\n",
      "FUV_TARGETS.list AV243\n",
      "FUV_TARGETS.list NEWQZ008\n",
      "FUV_TARGETS.list 3C-66A\n",
      "FUV_TARGETS.list GALEX-J022614.4+001530\n",
      "FUV_TARGETS.list CAL-F-COPY\n",
      "FUV_TARGETS.list NAME-RW-AUR-A\n",
      "FUV_TARGETS.list HKORI\n",
      "FUV_TARGETS.list J084349.75+261910.7\n",
      "FUV_TARGETS.list 2MASS-J09215939+4509126\n",
      "FUV_TARGETS.list PG0923+201\n",
      "FUV_TARGETS.list LY06\n",
      "FUV_TARGETS.list IZW18-OBJECT-1\n",
      "FUV_TARGETS.list J102847.00+391800.4\n",
      "FUV_TARGETS.list WD-1057+719\n",
      "FUV_TARGETS.list HD-97658\n",
      "FUV_TARGETS.list NGC4214-OBJECT-1-REVISIT\n",
      "FUV_TARGETS.list M87-FILAMENTS-COS-OFFSET\n",
      "FUV_TARGETS.list M87-FILAMENTS-COS\n",
      "FUV_TARGETS.list GALEX-J125100.3+302543\n",
      "FUV_TARGETS.list PG1309+355\n",
      "FUV_TARGETS.list J132059.41+295728.1\n",
      "FUV_TARGETS.list NGC5139-UIT-2-REVISED\n",
      "FUV_TARGETS.list PG1351+640\n",
      "FUV_TARGETS.list LY52\n",
      "FUV_TARGETS.list J140505.77+470441.1\n",
      "FUV_TARGETS.list 2XMM-J141348.3+440014\n",
      "FUV_TARGETS.list PG1435-067\n",
      "FUV_TARGETS.list IRAS16474+3430-TWEAK\n",
      "FUV_TARGETS.list IRAS16487+5447-TWEAK\n",
      "FUV_TARGETS.list WD1657+343\n",
      "FUV_TARGETS.list J165931.92+373528.8\n",
      "FUV_TARGETS.list HAT-P-11\n",
      "FUV_TARGETS.list HD-204827\n",
      "FUV_TARGETS.list HS2154+2228\n"
     ]
    }
   ],
   "source": [
    "# Change names for list targets that have a different alias from 2 different releases\n",
    "\n",
    "from astropy.table import Table\n",
    "import glob\n",
    "from astropy.io import ascii\n",
    "\n",
    "diff = ascii.read('/user/bsunnquist/hsla/alias_diff_2017_2018.txt')\n",
    "\n",
    "for f in glob.glob('*.list'):\n",
    "    t = ascii.read(f)\n",
    "    for i,targ in enumerate(diff['old_alias0']):\n",
    "        if targ in t['targname']:\n",
    "            print(f, targ)\n",
    "            t['targname'][t['targname'] == targ] = diff['new_alias0'][i]\n",
    "    t.write(f.split('.')[0] + '_COS.list', format='ascii', overwrite=True)\n",
    "    "
   ]
  },
  {
   "cell_type": "code",
   "execution_count": null,
   "metadata": {
    "collapsed": true
   },
   "outputs": [],
   "source": []
  }
 ],
 "metadata": {
  "kernelspec": {
   "display_name": "Python 3",
   "language": "python",
   "name": "python3"
  },
  "language_info": {
   "codemirror_mode": {
    "name": "ipython",
    "version": 3
   },
   "file_extension": ".py",
   "mimetype": "text/x-python",
   "name": "python",
   "nbconvert_exporter": "python",
   "pygments_lexer": "ipython3",
   "version": "3.5.4"
  }
 },
 "nbformat": 4,
 "nbformat_minor": 2
}
